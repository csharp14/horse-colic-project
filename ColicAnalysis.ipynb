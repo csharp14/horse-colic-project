{
 "cells": [
  {
   "cell_type": "code",
   "execution_count": 1,
   "metadata": {},
   "outputs": [
    {
     "name": "stdout",
     "output_type": "stream",
     "text": [
      "  had_surgery  age  hospital_number rectal_temp pulse resp_rate  \\\n",
      "0           2    1           530101       38.50    66        28   \n",
      "1           1    1           534817        39.2    88        20   \n",
      "2           2    1           530334       38.30    40        24   \n",
      "3           1    9          5290409       39.10   164        84   \n",
      "4           2    1           530255       37.30   104        35   \n",
      "\n",
      "  temp_of_extremities peripheral_pulse mucous_membrane capillary_refill_time  \\\n",
      "0                   3                3               ?                     2   \n",
      "1                   ?                ?               4                     1   \n",
      "2                   1                1               3                     1   \n",
      "3                   4                1               6                     2   \n",
      "4                   ?                ?               6                     2   \n",
      "\n",
      "   ... packed_cell_volume total_protein abdominocentesis_appearance  \\\n",
      "0  ...              45.00          8.40                           ?   \n",
      "1  ...                 50            85                           2   \n",
      "2  ...              33.00          6.70                           ?   \n",
      "3  ...              48.00          7.20                           3   \n",
      "4  ...              74.00          7.40                           ?   \n",
      "\n",
      "  abdomcentesis_total_protein outcome had_surgical_lesion lesion_site  \\\n",
      "0                           ?       2                   2       11300   \n",
      "1                           2       3                   2        2208   \n",
      "2                           ?       1                   2           0   \n",
      "3                        5.30       2                   1        2208   \n",
      "4                           ?       2                   2        4300   \n",
      "\n",
      "  lesion_type lesion_subtype lesion_specific_code  \n",
      "0           0              0                    2  \n",
      "1           0              0                    2  \n",
      "2           0              0                    1  \n",
      "3           0              0                    1  \n",
      "4           0              0                    2  \n",
      "\n",
      "[5 rows x 28 columns]\n"
     ]
    }
   ],
   "source": [
    "import pandas as pd\n",
    "\n",
    "# Headers from the horse-colic.names.txt file\n",
    "data_headers = ['had_surgery','age','hospital_number','rectal_temp','pulse',\n",
    "    'resp_rate','temp_of_extremities','peripheral_pulse','mucous_membrane',\n",
    "    'capillary_refill_time','pain','peristalsis','abdominal_distension',\n",
    "    'nasogastric_tube','nasogastric_reflux','nasogastric_reflux_PH',\n",
    "    'rectal_examination_feces','abdomen','packed_cell_volume','total_protein',\n",
    "    'abdominocentesis_appearance','abdomcentesis_total_protein','outcome',\n",
    "    'had_surgical_lesion','lesion_site','lesion_type','lesion_subtype',\n",
    "    'lesion_specific_code','cp_data']\n",
    "\n",
    "# Load the dataset\n",
    "data = pd.read_csv('data/horse-colic.data.csv',sep=' ',names=data_headers)\n",
    "\n",
    "# The cp_data column contains no data, can delete this.\n",
    "data = data.drop('cp_data',axis=1)\n",
    "\n",
    "print(data.head())"
   ]
  },
  {
   "cell_type": "code",
   "execution_count": 2,
   "metadata": {},
   "outputs": [
    {
     "name": "stdout",
     "output_type": "stream",
     "text": [
      "Dataset size:  (300, 28)\n",
      "had_surgery                      1\n",
      "age                              0\n",
      "hospital_number                  0\n",
      "rectal_temp                     60\n",
      "pulse                           24\n",
      "resp_rate                       58\n",
      "temp_of_extremities             56\n",
      "peripheral_pulse                69\n",
      "mucous_membrane                 47\n",
      "capillary_refill_time           32\n",
      "pain                            55\n",
      "peristalsis                     44\n",
      "abdominal_distension            56\n",
      "nasogastric_tube               104\n",
      "nasogastric_reflux             106\n",
      "nasogastric_reflux_PH          247\n",
      "rectal_examination_feces       102\n",
      "abdomen                        118\n",
      "packed_cell_volume              29\n",
      "total_protein                   33\n",
      "abdominocentesis_appearance    165\n",
      "abdomcentesis_total_protein    198\n",
      "outcome                          1\n",
      "had_surgical_lesion              0\n",
      "lesion_site                      0\n",
      "lesion_type                      0\n",
      "lesion_subtype                   0\n",
      "lesion_specific_code             0\n",
      "dtype: int64\n",
      "Total empty data points:  294\n"
     ]
    }
   ],
   "source": [
    "import numpy as np\n",
    "\n",
    "data[data == '?'] = np.nan\n",
    "data.astype(float)\n",
    "data.head()\n",
    "\n",
    "print('Dataset size: ', data.shape)\n",
    "\n",
    "# First identify null or missing data\n",
    "print(data.isnull().sum())\n",
    "num_missing_data = data.isnull().any(axis=1).sum()\n",
    "print('Total empty data points: ', num_missing_data)"
   ]
  },
  {
   "cell_type": "code",
   "execution_count": 4,
   "metadata": {},
   "outputs": [
    {
     "name": "stdout",
     "output_type": "stream",
     "text": [
      "had_surgery                      0\n",
      "age                              0\n",
      "hospital_number                  0\n",
      "rectal_temp                     60\n",
      "pulse                           24\n",
      "resp_rate                       58\n",
      "temp_of_extremities             56\n",
      "peripheral_pulse                69\n",
      "mucous_membrane                 47\n",
      "capillary_refill_time           32\n",
      "pain                            55\n",
      "peristalsis                     44\n",
      "abdominal_distension            56\n",
      "nasogastric_tube               104\n",
      "nasogastric_reflux             106\n",
      "nasogastric_reflux_PH          246\n",
      "rectal_examination_feces       102\n",
      "abdomen                        118\n",
      "packed_cell_volume              29\n",
      "total_protein                   33\n",
      "abdominocentesis_appearance    165\n",
      "abdomcentesis_total_protein    198\n",
      "outcome                          0\n",
      "had_surgical_lesion              0\n",
      "lesion_site                      0\n",
      "lesion_type                      0\n",
      "lesion_subtype                   0\n",
      "lesion_specific_code             0\n",
      "dtype: int64\n",
      "Total empty data points:  293\n"
     ]
    }
   ],
   "source": [
    "missing_had_surgery = data[data.had_surgery.isnull()]\n",
    "data = data.drop(missing_had_surgery.index)\n",
    "\n",
    "# First identify null or missing data\n",
    "print(data.isnull().sum())\n",
    "num_missing_data = data.isnull().any(axis=1).sum()\n",
    "print('Total empty data points: ', num_missing_data)"
   ]
  },
  {
   "cell_type": "code",
   "execution_count": 26,
   "metadata": {},
   "outputs": [
    {
     "data": {
      "image/png": "[encoded data removed]",
      "text/plain": [
       "<Figure size 400x200 with 1 Axes>"
      ]
     },
     "metadata": {},
     "output_type": "display_data"
    }
   ],
   "source": [
    "import pandas as pd\n",
    "import matplotlib.pyplot as plt\n",
    "\n",
    "# Get the label column\n",
    "label = data['outcome']\n",
    "\n",
    "# Create a figure for 2 subplots (2 rows, 1 col)\n",
    "fig, ax = plt.subplots(1,1,figsize = (4,2))\n",
    "\n",
    "# Plot a histogram of the label\n",
    "ax.hist(label,bins=3)\n",
    "ax.set_ylabel('Frequency')\n",
    "ax.set_xticks([0,1,2])\n",
    "ax.set_xticklabels(['died','euthanized','lived'])\n",
    "\n",
    "# Add title\n",
    "fig.suptitle('Colic outcomes')\n",
    "\n",
    "# Show the figure\n",
    "plt.show()"
   ]
  }
 ],
 "metadata": {
  "kernelspec": {
   "display_name": "base",
   "language": "python",
   "name": "python3"
  },
  "language_info": {
   "codemirror_mode": {
    "name": "ipython",
    "version": 3
   },
   "file_extension": ".py",
   "mimetype": "text/x-python",
   "name": "python",
   "nbconvert_exporter": "python",
   "pygments_lexer": "ipython3",
   "version": "3.11.5"
  }
 },
 "nbformat": 4,
 "nbformat_minor": 2
}
